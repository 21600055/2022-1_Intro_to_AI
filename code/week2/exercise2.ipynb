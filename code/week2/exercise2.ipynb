{
 "cells": [
  {
   "cell_type": "code",
   "execution_count": 9,
   "id": "3c0c8d60",
   "metadata": {},
   "outputs": [
    {
     "name": "stdout",
     "output_type": "stream",
     "text": [
      "Enter the start day (0~6)6\n",
      "Enter the number of days(1~31)31\n",
      "Sun\tMon\tTue\tWed\tThu\tFri\tSat\n",
      "\t\t\t\t\t\t1 \t\n",
      "2 \t3 \t4 \t5 \t6 \t7 \t8 \t\n",
      "9 \t10 \t11 \t12 \t13 \t14 \t15 \t\n",
      "16 \t17 \t18 \t19 \t20 \t21 \t22 \t\n",
      "23 \t24 \t25 \t26 \t27 \t28 \t29 \t\n",
      "30 \t31 \t"
     ]
    }
   ],
   "source": [
    "start = int(input(\"Enter the start day (0~6)\"))\n",
    "n = int(input(\"Enter the number of days(1~31)\"))\n",
    "sum = start + n\n",
    "print(\"Sun\\tMon\\tTue\\tWed\\tThu\\tFri\\tSat\")\n",
    "\n",
    "for i in range(1,sum+1):\n",
    "    \n",
    "    if i <= start:\n",
    "        print(\"\\t\",end='')\n",
    "    elif i>start:\n",
    "        if i % 7 == 1:\n",
    "            print(\"\") \n",
    "        print(i-start,\"\\t\", end=\"\")\n",
    "    \n"
   ]
  },
  {
   "cell_type": "code",
   "execution_count": null,
   "id": "e21807d8",
   "metadata": {},
   "outputs": [],
   "source": []
  }
 ],
 "metadata": {
  "kernelspec": {
   "display_name": "Python 3 (ipykernel)",
   "language": "python",
   "name": "python3"
  },
  "language_info": {
   "codemirror_mode": {
    "name": "ipython",
    "version": 3
   },
   "file_extension": ".py",
   "mimetype": "text/x-python",
   "name": "python",
   "nbconvert_exporter": "python",
   "pygments_lexer": "ipython3",
   "version": "3.9.2"
  }
 },
 "nbformat": 4,
 "nbformat_minor": 5
}
