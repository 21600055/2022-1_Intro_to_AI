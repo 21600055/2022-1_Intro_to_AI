{
 "cells": [
  {
   "cell_type": "markdown",
   "id": "676f4004",
   "metadata": {},
   "source": [
    "HW_1 by 21600055 김동규\n",
    "\n",
    "1. Objective: This code reads numbers from \"input.txt\" and write the sum of each row to \"output.txt\" and print out the sums\n",
    "2. Input\n",
    "   * name of txt file\n",
    "3. Output\n",
    "    * output text file named \"output.txt\"\n",
    "    * print out the results"
   ]
  },
  {
   "cell_type": "code",
   "execution_count": 26,
   "id": "bed8ad26",
   "metadata": {
    "scrolled": false
   },
   "outputs": [
    {
     "name": "stdout",
     "output_type": "stream",
     "text": [
      "18.299999999999997\n",
      "8.0\n",
      "20.0\n",
      "27.5\n",
      "5.0\n",
      "9.0\n",
      "8.0\n",
      "6.0\n"
     ]
    }
   ],
   "source": [
    "fp = open(\"input.txt\",\"r\") #  input file name to read\n",
    "lines = fp.readlines() # read all lines to lines variable\n",
    "fp.close()\n",
    "\n",
    "output = [] # empty list to write ouput.txt\n",
    "for line in lines: # read each line from lines\n",
    "    sum = 0 # sum of each line\n",
    "    line = line.split(' ') # split it by blank and return list to line variable\n",
    "    for i in line: \n",
    "        sum = sum + float(i) # convert each element from string type to float type and sum\n",
    "    output.append(str(sum)) #  append each row sum to output variable\n",
    "\n",
    "fp = open(\"output.txt\",\"w\") # output file name to write\n",
    "for i in output:\n",
    "    fp.write(i+\"\\n\")\n",
    "    print(i) # print result\n",
    "fp.close()"
   ]
  },
  {
   "cell_type": "code",
   "execution_count": null,
   "id": "85ce719f",
   "metadata": {},
   "outputs": [],
   "source": []
  }
 ],
 "metadata": {
  "kernelspec": {
   "display_name": "Python 3 (ipykernel)",
   "language": "python",
   "name": "python3"
  },
  "language_info": {
   "codemirror_mode": {
    "name": "ipython",
    "version": 3
   },
   "file_extension": ".py",
   "mimetype": "text/x-python",
   "name": "python",
   "nbconvert_exporter": "python",
   "pygments_lexer": "ipython3",
   "version": "3.9.2"
  }
 },
 "nbformat": 4,
 "nbformat_minor": 5
}
