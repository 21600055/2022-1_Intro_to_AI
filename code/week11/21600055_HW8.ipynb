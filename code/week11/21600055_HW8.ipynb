{
 "cells": [
  {
   "cell_type": "markdown",
   "id": "d8286251",
   "metadata": {},
   "source": [
    "HW_8 by 21600055 김동규\n",
    "\n",
    "1. objective: lab classfication and decsion tree\n",
    "\n",
    "2. input: mnist.pkl, train_data, test_data\n",
    "\n",
    "3. output: classification using decision tree and draw decision tree"
   ]
  },
  {
   "cell_type": "code",
   "execution_count": 1,
   "id": "db06f922",
   "metadata": {},
   "outputs": [],
   "source": [
    "import numpy as np\n",
    "import math"
   ]
  },
  {
   "cell_type": "markdown",
   "id": "2325fef5",
   "metadata": {},
   "source": [
    "# Make dataset"
   ]
  },
  {
   "cell_type": "code",
   "execution_count": 2,
   "id": "58630ec8",
   "metadata": {},
   "outputs": [],
   "source": [
    "train_data = [\n",
    "    [\"Green\",3,'Apple'],\n",
    "    ['Yellow',3,'Apple'],\n",
    "    ['Red',1,'Grape'],\n",
    "    ['Red',1,'Grape'],\n",
    "    ['Yellow',3,'Lemon'],\n",
    "    ['Yellow',4,'Lemon'],\n",
    "]\n",
    "columns = ['color','diameter','label']"
   ]
  },
  {
   "cell_type": "markdown",
   "id": "830690e9",
   "metadata": {},
   "source": [
    "# Make useful functions"
   ]
  },
  {
   "cell_type": "code",
   "execution_count": 3,
   "id": "cdf2eb0a",
   "metadata": {},
   "outputs": [],
   "source": [
    "def unique_vals(rows,col): # extract unique value of rows\n",
    "    return set([row[col] for row in rows])"
   ]
  },
  {
   "cell_type": "code",
   "execution_count": 5,
   "id": "371a713d",
   "metadata": {},
   "outputs": [
    {
     "data": {
      "text/plain": [
       "{'Green', 'Red', 'Yellow'}"
      ]
     },
     "execution_count": 5,
     "metadata": {},
     "output_type": "execute_result"
    }
   ],
   "source": [
    "unique_vals(train_data,0) # print unique value of dataset's 1st column"
   ]
  },
  {
   "cell_type": "code",
   "execution_count": 6,
   "id": "c1628914",
   "metadata": {},
   "outputs": [],
   "source": [
    "def class_counts(rows): # count the each data\n",
    "    counts = {}\n",
    "    \n",
    "    for row in rows:\n",
    "        label = row[-1]\n",
    "        \n",
    "        if label not in counts:\n",
    "            counts[label] = 0\n",
    "        counts[label] += 1\n",
    "    return counts"
   ]
  },
  {
   "cell_type": "code",
   "execution_count": 7,
   "id": "8206e1b5",
   "metadata": {},
   "outputs": [
    {
     "data": {
      "text/plain": [
       "{'Apple': 2, 'Grape': 2, 'Lemon': 2}"
      ]
     },
     "execution_count": 7,
     "metadata": {},
     "output_type": "execute_result"
    }
   ],
   "source": [
    "class_counts(train_data)"
   ]
  },
  {
   "cell_type": "code",
   "execution_count": 8,
   "id": "416790e6",
   "metadata": {},
   "outputs": [],
   "source": [
    "def is_numeric(value): # if value is int or float, return true else false\n",
    "    return isinstance(value,int) or isinstance(value,float)"
   ]
  },
  {
   "cell_type": "code",
   "execution_count": 7,
   "id": "dfb9f082",
   "metadata": {},
   "outputs": [
    {
     "name": "stdout",
     "output_type": "stream",
     "text": [
      "True False\n"
     ]
    }
   ],
   "source": [
    "print(is_numeric(7),is_numeric('Blue'))"
   ]
  },
  {
   "cell_type": "markdown",
   "id": "2a49c141",
   "metadata": {},
   "source": [
    "# Make a Question class"
   ]
  },
  {
   "cell_type": "code",
   "execution_count": 10,
   "id": "d592b14f",
   "metadata": {},
   "outputs": [],
   "source": [
    "class Question: # question class\n",
    "    \n",
    "    def __init__(self, column, value): # constuctor\n",
    "        self.column = column\n",
    "        self.value = value\n",
    "        \n",
    "    def compare_with_question(self,example):\n",
    "        \n",
    "        val = example[self.column]\n",
    "        \n",
    "        if is_numeric(val): # if numeric, compare bigger number, else compare is equal\n",
    "            return val >= self.value\n",
    "        else:\n",
    "            return val == self.value\n",
    "        \n",
    "    def __repr__(self): # return reprensetation in string format\n",
    "        condition = \"==\"\n",
    "        \n",
    "        if is_numeric(self.value):\n",
    "            condition = \">=\"\n",
    "        return \"Is {} {} {}?\".format(columns[self.column],condition,str(self.value))"
   ]
  },
  {
   "cell_type": "code",
   "execution_count": 11,
   "id": "e41688b2",
   "metadata": {},
   "outputs": [
    {
     "data": {
      "text/plain": [
       "Is diameter >= 3?"
      ]
     },
     "execution_count": 11,
     "metadata": {},
     "output_type": "execute_result"
    }
   ],
   "source": [
    "Question(1,3)"
   ]
  },
  {
   "cell_type": "code",
   "execution_count": 12,
   "id": "78a6279c",
   "metadata": {},
   "outputs": [
    {
     "data": {
      "text/plain": [
       "Is color == Green?"
      ]
     },
     "execution_count": 12,
     "metadata": {},
     "output_type": "execute_result"
    }
   ],
   "source": [
    "Question(0,\"Green\")"
   ]
  },
  {
   "cell_type": "markdown",
   "id": "f22c1fef",
   "metadata": {},
   "source": [
    "# Make partition function"
   ]
  },
  {
   "cell_type": "code",
   "execution_count": 13,
   "id": "097c3d25",
   "metadata": {},
   "outputs": [],
   "source": [
    "def partition(rows,question): # split function\n",
    "    \n",
    "    true_rows, false_rows = [], []\n",
    "    \n",
    "    for row in rows:\n",
    "        if question.compare_with_question(row):\n",
    "            true_rows.append(row)\n",
    "        else:\n",
    "            false_rows.append(row)\n",
    "    \n",
    "    return true_rows, false_rows"
   ]
  },
  {
   "cell_type": "code",
   "execution_count": 15,
   "id": "96e7619b",
   "metadata": {},
   "outputs": [],
   "source": [
    "true_rows , false_rows = partition(train_data,Question(0,\"Red\")) # question about 'color is red?'"
   ]
  },
  {
   "cell_type": "code",
   "execution_count": 16,
   "id": "e4fd9434",
   "metadata": {},
   "outputs": [
    {
     "name": "stdout",
     "output_type": "stream",
     "text": [
      "The true_rows\n",
      " ===>  [['Red', 1, 'Grape'], ['Red', 1, 'Grape']] \n",
      "The false_rows\n",
      " ===> [['Green', 3, 'Apple'], ['Yellow', 3, 'Apple'], ['Yellow', 3, 'Lemon'], ['Yellow', 4, 'Lemon']]\n"
     ]
    }
   ],
   "source": [
    "print(\"The true_rows\\n ===> \",true_rows,\"\\nThe false_rows\\n ===>\",false_rows)"
   ]
  },
  {
   "cell_type": "markdown",
   "id": "e6ccddb6",
   "metadata": {},
   "source": [
    "# Calculate entropy"
   ]
  },
  {
   "cell_type": "code",
   "execution_count": 19,
   "id": "bb9fa26e",
   "metadata": {},
   "outputs": [],
   "source": [
    "def entropy(labels,base=None):\n",
    "    \n",
    "    n_labels = len(labels)\n",
    "    \n",
    "    if n_labels <= 1: # if label count is less or equal 1, return 0\n",
    "        return 0\n",
    "    \n",
    "    counts = class_counts(labels)\n",
    "    probs = [counts[key] / n_labels for key in counts.keys()]\n",
    "    \n",
    "    n_classes = np.count_nonzero(probs)\n",
    "    \n",
    "    if n_classes <= 1 :\n",
    "        return 0\n",
    "    \n",
    "    ent = 0.\n",
    "    \n",
    "    for i in probs: # compute entropy\n",
    "        ent -= i * math.log2(i)\n",
    "    return ent"
   ]
  },
  {
   "cell_type": "code",
   "execution_count": 20,
   "id": "acb2edfb",
   "metadata": {},
   "outputs": [
    {
     "data": {
      "text/plain": [
       "0"
      ]
     },
     "execution_count": 20,
     "metadata": {},
     "output_type": "execute_result"
    }
   ],
   "source": [
    "pure = [['Apple'],\n",
    "        ['Apple']]\n",
    "entropy(pure)"
   ]
  },
  {
   "cell_type": "code",
   "execution_count": 21,
   "id": "65e47a05",
   "metadata": {},
   "outputs": [
    {
     "data": {
      "text/plain": [
       "1.0"
      ]
     },
     "execution_count": 21,
     "metadata": {},
     "output_type": "execute_result"
    }
   ],
   "source": [
    "impure = [['Apple'],\n",
    "          [\"Orange\"]]\n",
    "entropy(impure)"
   ]
  },
  {
   "cell_type": "code",
   "execution_count": 22,
   "id": "ca845b55",
   "metadata": {},
   "outputs": [
    {
     "data": {
      "text/plain": [
       "2.321928094887362"
      ]
     },
     "execution_count": 22,
     "metadata": {},
     "output_type": "execute_result"
    }
   ],
   "source": [
    "impure = [['Apple'],\n",
    "          [\"Orange\"],\n",
    "          [\"Grape\"],\n",
    "          [\"Grapefruit\"],\n",
    "          ['Blueberry']\n",
    "         ]\n",
    "entropy(impure)"
   ]
  },
  {
   "cell_type": "markdown",
   "id": "1a06216f",
   "metadata": {},
   "source": [
    "# Calculate information gain"
   ]
  },
  {
   "cell_type": "code",
   "execution_count": 23,
   "id": "a9942dee",
   "metadata": {},
   "outputs": [],
   "source": [
    "def info_gain(left, right, current_uncertainty):\n",
    "    \n",
    "    p = float(len(left) / (len(left) + len(right)))\n",
    "    \n",
    "    print(\"(1) Avg of Impurity = {:.4f} * {:.4f} + {:.4f} * {:.4f}\".format(p,entropy(left),# calculate avaerage of impurity\n",
    "                                                                          (1-p),entropy(right)))\n",
    "    print(\"(2) Current uncertainty = {:.4f}\".format(current_uncertainty)) # print current uncertainty\n",
    "    \n",
    "    IG = current_uncertainty - (p * entropy(left) + (1-p) * entropy(right)) # get Information gain\n",
    "    print(\"(3) Information gain = {:.4f} - ({:.4f} * {:.4f} + {:.4f} * {:.4f}) = {:.4f}\\n\".\n",
    "         format(current_uncertainty, p, entropy(left), 1-p, entropy(right), IG))\n",
    "    \n",
    "    return IG"
   ]
  },
  {
   "cell_type": "code",
   "execution_count": 24,
   "id": "441eea0f",
   "metadata": {},
   "outputs": [
    {
     "name": "stdout",
     "output_type": "stream",
     "text": [
      "\n",
      "Current uncertainty ===> 1.5850\n"
     ]
    }
   ],
   "source": [
    "current_uncertainty = entropy(train_data)\n",
    "print(\"\\nCurrent uncertainty ===> {:.4f}\".format(current_uncertainty))"
   ]
  },
  {
   "cell_type": "code",
   "execution_count": 26,
   "id": "44680b0f",
   "metadata": {},
   "outputs": [
    {
     "name": "stdout",
     "output_type": "stream",
     "text": [
      "Question?  Is color == Green?\n",
      "True rows ===> [['Green', 3, 'Apple']]\n",
      "False rows ===> [['Yellow', 3, 'Apple'], ['Red', 1, 'Grape'], ['Red', 1, 'Grape'], ['Yellow', 3, 'Lemon'], ['Yellow', 4, 'Lemon']]\n",
      "(1) Avg of Impurity = 0.1667 * 0.0000 + 0.8333 * 1.5219\n",
      "(2) Current uncertainty = 1.5850\n",
      "(3) Information gain = 1.5850 - (0.1667 * 0.0000 + 0.8333 * 1.5219) = 0.3167\n",
      "\n",
      "\n",
      "The information gain by partitioning on \"Green\" is 0.3167\n"
     ]
    }
   ],
   "source": [
    "print(\"Question? \",Question(0,\"Green\"))\n",
    "\n",
    "true_rows, false_rows = partition(train_data,Question(0,\"Green\")) # split data about color is green?\n",
    "print(\"True rows ===> {}\".format(true_rows))\n",
    "print(\"False rows ===> {}\".format(false_rows))\n",
    "\n",
    "print(\"\\nThe information gain by partitioning on \\\"Green\\\" is {:.4f}\".format(\n",
    "    info_gain(true_rows,false_rows,current_uncertainty)))"
   ]
  },
  {
   "cell_type": "code",
   "execution_count": 28,
   "id": "76782ed6",
   "metadata": {},
   "outputs": [
    {
     "name": "stdout",
     "output_type": "stream",
     "text": [
      "Question?  Is diameter >= 3?\n",
      "True rows ===> [['Green', 3, 'Apple'], ['Yellow', 3, 'Apple'], ['Yellow', 3, 'Lemon'], ['Yellow', 4, 'Lemon']]\n",
      "False rows ===> [['Red', 1, 'Grape'], ['Red', 1, 'Grape']]\n",
      "(1) Avg of Impurity = 0.6667 * 1.0000 + 0.3333 * 0.0000\n",
      "(2) Current uncertainty = 1.5850\n",
      "(3) Information gain = 1.5850 - (0.6667 * 1.0000 + 0.3333 * 0.0000) = 0.9183\n",
      "\n",
      "\n",
      "The information gain by partitioning on \"Green\" is 0.9183\n"
     ]
    }
   ],
   "source": [
    "print(\"Question? \",Question(1,3))\n",
    "\n",
    "true_rows, false_rows = partition(train_data,Question(1,3)) # split data about diameter is bigger than 3?\n",
    "print(\"True rows ===> {}\".format(true_rows))\n",
    "print(\"False rows ===> {}\".format(false_rows))\n",
    "\n",
    "print(\"\\nThe information gain by partitioning on \\\"Green\\\" is {:.4f}\".format(\n",
    "    info_gain(true_rows,false_rows,current_uncertainty)))"
   ]
  },
  {
   "cell_type": "markdown",
   "id": "7424f8a9",
   "metadata": {},
   "source": [
    "# Find best split based on information gain"
   ]
  },
  {
   "cell_type": "code",
   "execution_count": 33,
   "id": "698cd1e1",
   "metadata": {},
   "outputs": [],
   "source": [
    "def find_best_split(rows): # find best question of split data\n",
    "    \n",
    "    best_gain = 0\n",
    "    best_question = None\n",
    "    \n",
    "    current_uncertainty = entropy(rows)\n",
    "    n_features = len(rows[0]) - 1\n",
    "    \n",
    "    for col in range(n_features):\n",
    "        \n",
    "        values = set([row[col] for row in rows])\n",
    "        \n",
    "        for val in values:\n",
    "            \n",
    "            question = Question(col,val)\n",
    "            true_rows, false_rows = partition(rows,question)\n",
    "            \n",
    "            if(len(true_rows)==0 or len(false_rows)==0):\n",
    "                continue\n",
    "            print(\"Question ===>\",question)\n",
    "            gain = info_gain(true_rows,false_rows,current_uncertainty)\n",
    "            \n",
    "            if gain >= best_gain:\n",
    "                best_gain, best_question = gain, question\n",
    "    \n",
    "    return best_gain, best_question"
   ]
  },
  {
   "cell_type": "code",
   "execution_count": 34,
   "id": "40788192",
   "metadata": {},
   "outputs": [
    {
     "name": "stdout",
     "output_type": "stream",
     "text": [
      "Question ===> Is color == Red?\n",
      "(1) Avg of Impurity = 0.3333 * 0.0000 + 0.6667 * 1.0000\n",
      "(2) Current uncertainty = 1.5850\n",
      "(3) Information gain = 1.5850 - (0.3333 * 0.0000 + 0.6667 * 1.0000) = 0.9183\n",
      "\n",
      "Question ===> Is color == Yellow?\n",
      "(1) Avg of Impurity = 0.5000 * 0.9183 + 0.5000 * 0.9183\n",
      "(2) Current uncertainty = 1.5850\n",
      "(3) Information gain = 1.5850 - (0.5000 * 0.9183 + 0.5000 * 0.9183) = 0.6667\n",
      "\n",
      "Question ===> Is color == Green?\n",
      "(1) Avg of Impurity = 0.1667 * 0.0000 + 0.8333 * 1.5219\n",
      "(2) Current uncertainty = 1.5850\n",
      "(3) Information gain = 1.5850 - (0.1667 * 0.0000 + 0.8333 * 1.5219) = 0.3167\n",
      "\n",
      "Question ===> Is diameter >= 3?\n",
      "(1) Avg of Impurity = 0.6667 * 1.0000 + 0.3333 * 0.0000\n",
      "(2) Current uncertainty = 1.5850\n",
      "(3) Information gain = 1.5850 - (0.6667 * 1.0000 + 0.3333 * 0.0000) = 0.9183\n",
      "\n",
      "Question ===> Is diameter >= 4?\n",
      "(1) Avg of Impurity = 0.1667 * 0.0000 + 0.8333 * 1.5219\n",
      "(2) Current uncertainty = 1.5850\n",
      "(3) Information gain = 1.5850 - (0.1667 * 0.0000 + 0.8333 * 1.5219) = 0.3167\n",
      "\n"
     ]
    },
    {
     "data": {
      "text/plain": [
       "(0.9182958340544894, Is diameter >= 3?)"
      ]
     },
     "execution_count": 34,
     "metadata": {},
     "output_type": "execute_result"
    }
   ],
   "source": [
    "find_best_split(train_data)"
   ]
  },
  {
   "cell_type": "markdown",
   "id": "f010444d",
   "metadata": {},
   "source": [
    "# Make Decision Tree"
   ]
  },
  {
   "cell_type": "code",
   "execution_count": 35,
   "id": "3af12b8b",
   "metadata": {},
   "outputs": [],
   "source": [
    "class Leaf: # Leaf node classifies data\n",
    "    \n",
    "    def __init__(self,rows):\n",
    "        self.predictions = class_counts(rows)"
   ]
  },
  {
   "cell_type": "code",
   "execution_count": 36,
   "id": "553decf1",
   "metadata": {},
   "outputs": [],
   "source": [
    "class Decision_Node: # Decision node that asks a quesitons.\n",
    "    \n",
    "    def __init__(self,\n",
    "                 question,\n",
    "                 true_branch,\n",
    "                 false_branch\n",
    "                ):\n",
    "        self.question = question\n",
    "        self.true_branch = true_branch\n",
    "        self.false_branch = false_branch"
   ]
  },
  {
   "cell_type": "code",
   "execution_count": 39,
   "id": "e23fc8c1",
   "metadata": {},
   "outputs": [],
   "source": [
    "def build_tree(rows): # build Tree , recursive\n",
    "    \n",
    "    gain, question = find_best_split(rows)\n",
    "    \n",
    "    if gain == 0: # if gain is 0, it is leaf\n",
    "        return Leaf(rows)\n",
    "    \n",
    "    true_rows, false_rows = partition(rows,question)\n",
    "    \n",
    "    true_branch = build_tree(true_rows)\n",
    "    false_branch = build_tree(false_rows)\n",
    "    \n",
    "    return Decision_Node(question,true_branch,false_branch)"
   ]
  },
  {
   "cell_type": "code",
   "execution_count": 41,
   "id": "377f2cba",
   "metadata": {},
   "outputs": [],
   "source": [
    "def print_tree(node,spacing=\"\"): \n",
    "    \n",
    "    if isinstance(node,Leaf):\n",
    "        print(spacing + \"Predict\",node.predictions)\n",
    "        return\n",
    "\n",
    "    print(spacing + str(node.question))\n",
    "    \n",
    "    print(spacing + '--> True: ')\n",
    "    print_tree(node.true_branch,spacing + \" \")\n",
    "    \n",
    "    print(spacing + '--> False: ')\n",
    "    print_tree(node.false_branch,spacing + \" \")"
   ]
  },
  {
   "cell_type": "code",
   "execution_count": 42,
   "id": "db720a67",
   "metadata": {},
   "outputs": [
    {
     "name": "stdout",
     "output_type": "stream",
     "text": [
      "Question ===> Is color == Red?\n",
      "(1) Avg of Impurity = 0.3333 * 0.0000 + 0.6667 * 1.0000\n",
      "(2) Current uncertainty = 1.5850\n",
      "(3) Information gain = 1.5850 - (0.3333 * 0.0000 + 0.6667 * 1.0000) = 0.9183\n",
      "\n",
      "Question ===> Is color == Yellow?\n",
      "(1) Avg of Impurity = 0.5000 * 0.9183 + 0.5000 * 0.9183\n",
      "(2) Current uncertainty = 1.5850\n",
      "(3) Information gain = 1.5850 - (0.5000 * 0.9183 + 0.5000 * 0.9183) = 0.6667\n",
      "\n",
      "Question ===> Is color == Green?\n",
      "(1) Avg of Impurity = 0.1667 * 0.0000 + 0.8333 * 1.5219\n",
      "(2) Current uncertainty = 1.5850\n",
      "(3) Information gain = 1.5850 - (0.1667 * 0.0000 + 0.8333 * 1.5219) = 0.3167\n",
      "\n",
      "Question ===> Is diameter >= 3?\n",
      "(1) Avg of Impurity = 0.6667 * 1.0000 + 0.3333 * 0.0000\n",
      "(2) Current uncertainty = 1.5850\n",
      "(3) Information gain = 1.5850 - (0.6667 * 1.0000 + 0.3333 * 0.0000) = 0.9183\n",
      "\n",
      "Question ===> Is diameter >= 4?\n",
      "(1) Avg of Impurity = 0.1667 * 0.0000 + 0.8333 * 1.5219\n",
      "(2) Current uncertainty = 1.5850\n",
      "(3) Information gain = 1.5850 - (0.1667 * 0.0000 + 0.8333 * 1.5219) = 0.3167\n",
      "\n",
      "Question ===> Is color == Yellow?\n",
      "(1) Avg of Impurity = 0.7500 * 0.9183 + 0.2500 * 0.0000\n",
      "(2) Current uncertainty = 1.0000\n",
      "(3) Information gain = 1.0000 - (0.7500 * 0.9183 + 0.2500 * 0.0000) = 0.3113\n",
      "\n",
      "Question ===> Is color == Green?\n",
      "(1) Avg of Impurity = 0.2500 * 0.0000 + 0.7500 * 0.9183\n",
      "(2) Current uncertainty = 1.0000\n",
      "(3) Information gain = 1.0000 - (0.2500 * 0.0000 + 0.7500 * 0.9183) = 0.3113\n",
      "\n",
      "Question ===> Is diameter >= 4?\n",
      "(1) Avg of Impurity = 0.2500 * 0.0000 + 0.7500 * 0.9183\n",
      "(2) Current uncertainty = 1.0000\n",
      "(3) Information gain = 1.0000 - (0.2500 * 0.0000 + 0.7500 * 0.9183) = 0.3113\n",
      "\n",
      "Question ===> Is color == Yellow?\n",
      "(1) Avg of Impurity = 0.6667 * 1.0000 + 0.3333 * 0.0000\n",
      "(2) Current uncertainty = 0.9183\n",
      "(3) Information gain = 0.9183 - (0.6667 * 1.0000 + 0.3333 * 0.0000) = 0.2516\n",
      "\n",
      "Question ===> Is color == Green?\n",
      "(1) Avg of Impurity = 0.3333 * 0.0000 + 0.6667 * 1.0000\n",
      "(2) Current uncertainty = 0.9183\n",
      "(3) Information gain = 0.9183 - (0.3333 * 0.0000 + 0.6667 * 1.0000) = 0.2516\n",
      "\n",
      "<class '__main__.Decision_Node'>\n"
     ]
    }
   ],
   "source": [
    "my_tree = build_tree(train_data) \n",
    "print(type(my_tree))"
   ]
  },
  {
   "cell_type": "code",
   "execution_count": 43,
   "id": "22d786a0",
   "metadata": {},
   "outputs": [
    {
     "name": "stdout",
     "output_type": "stream",
     "text": [
      "Is diameter >= 3?\n",
      "--> True: \n",
      " Is diameter >= 4?\n",
      " --> True: \n",
      "  Predict {'Lemon': 1}\n",
      " --> False: \n",
      "  Is color == Yellow?\n",
      "  --> True: \n",
      "   Predict {'Apple': 1, 'Lemon': 1}\n",
      "  --> False: \n",
      "   Predict {'Apple': 1}\n",
      "--> False: \n",
      " Predict {'Grape': 2}\n"
     ]
    }
   ],
   "source": [
    "print_tree(my_tree) # print the builded decision tree"
   ]
  },
  {
   "cell_type": "code",
   "execution_count": 44,
   "id": "e31aa27c",
   "metadata": {},
   "outputs": [],
   "source": [
    "def classify(row,node): # classify function\n",
    "    \n",
    "    if isinstance(node,Leaf): # if node is leaf, return predicted results.\n",
    "        return node.predictions\n",
    "    \n",
    "    if node.question.compare_with_question(row):\n",
    "        return classify(row,node.true_branch)\n",
    "    else:\n",
    "        return classify(row,node.false_branch)"
   ]
  },
  {
   "cell_type": "code",
   "execution_count": 45,
   "id": "ba5558b9",
   "metadata": {},
   "outputs": [
    {
     "data": {
      "text/plain": [
       "{'Apple': 1}"
      ]
     },
     "execution_count": 45,
     "metadata": {},
     "output_type": "execute_result"
    }
   ],
   "source": [
    "classify(train_data[0],my_tree)"
   ]
  },
  {
   "cell_type": "code",
   "execution_count": 46,
   "id": "6d086744",
   "metadata": {},
   "outputs": [],
   "source": [
    "def print_leaf(counts): # print leaf node\n",
    "    total = sum(counts.values()) * 1.0\n",
    "    probs = {}\n",
    "    \n",
    "    for lbl in counts.keys():\n",
    "        probs[lbl] = str(int(counts[lbl] / total * 100)) + \"%\"\n",
    "    return probs"
   ]
  },
  {
   "cell_type": "code",
   "execution_count": 47,
   "id": "939c1db7",
   "metadata": {},
   "outputs": [
    {
     "data": {
      "text/plain": [
       "{'Apple': '100%'}"
      ]
     },
     "execution_count": 47,
     "metadata": {},
     "output_type": "execute_result"
    }
   ],
   "source": [
    "print_leaf(classify(train_data[0],my_tree))"
   ]
  },
  {
   "cell_type": "code",
   "execution_count": 48,
   "id": "27c4b185",
   "metadata": {},
   "outputs": [
    {
     "data": {
      "text/plain": [
       "{'Apple': '50%', 'Lemon': '50%'}"
      ]
     },
     "execution_count": 48,
     "metadata": {},
     "output_type": "execute_result"
    }
   ],
   "source": [
    "print_leaf(classify(train_data[1],my_tree))"
   ]
  },
  {
   "cell_type": "markdown",
   "id": "27172dba",
   "metadata": {},
   "source": [
    "# Test based on decision tree"
   ]
  },
  {
   "cell_type": "code",
   "execution_count": 50,
   "id": "ddacae6b",
   "metadata": {},
   "outputs": [],
   "source": [
    "testing_data = [ # test data\n",
    "    [\"Green\",3,\"Apple\"],\n",
    "    [\"Yellow\",4,\"Apple\"],\n",
    "    [\"Red\",2,\"Grape\"],\n",
    "    [\"Red\",1,\"Grape\"],\n",
    "    [\"Yellow\",3,\"Lemon\"],\n",
    "]"
   ]
  },
  {
   "cell_type": "code",
   "execution_count": 51,
   "id": "42baf058",
   "metadata": {},
   "outputs": [
    {
     "name": "stdout",
     "output_type": "stream",
     "text": [
      "Actual: Apple. Predicted: {'Apple': '100%'}\n",
      "Actual: Apple. Predicted: {'Lemon': '100%'}\n",
      "Actual: Grape. Predicted: {'Grape': '100%'}\n",
      "Actual: Grape. Predicted: {'Grape': '100%'}\n",
      "Actual: Lemon. Predicted: {'Apple': '50%', 'Lemon': '50%'}\n"
     ]
    }
   ],
   "source": [
    "for row in testing_data:\n",
    "    print(\"Actual: %s. Predicted: %s\" % # print compare actual data and predicted data\n",
    "            (row[-1],print_leaf(classify(row,my_tree)))\n",
    "         )"
   ]
  },
  {
   "cell_type": "code",
   "execution_count": 53,
   "id": "b910a0f2",
   "metadata": {},
   "outputs": [
    {
     "data": {
      "text/html": [
       "<div>\n",
       "<style scoped>\n",
       "    .dataframe tbody tr th:only-of-type {\n",
       "        vertical-align: middle;\n",
       "    }\n",
       "\n",
       "    .dataframe tbody tr th {\n",
       "        vertical-align: top;\n",
       "    }\n",
       "\n",
       "    .dataframe thead th {\n",
       "        text-align: right;\n",
       "    }\n",
       "</style>\n",
       "<table border=\"1\" class=\"dataframe\">\n",
       "  <thead>\n",
       "    <tr style=\"text-align: right;\">\n",
       "      <th></th>\n",
       "      <th>color</th>\n",
       "      <th>diameter</th>\n",
       "      <th>label</th>\n",
       "    </tr>\n",
       "  </thead>\n",
       "  <tbody>\n",
       "    <tr>\n",
       "      <th>0</th>\n",
       "      <td>Green</td>\n",
       "      <td>3</td>\n",
       "      <td>Apple</td>\n",
       "    </tr>\n",
       "    <tr>\n",
       "      <th>1</th>\n",
       "      <td>Yellow</td>\n",
       "      <td>3</td>\n",
       "      <td>Apple</td>\n",
       "    </tr>\n",
       "    <tr>\n",
       "      <th>2</th>\n",
       "      <td>Red</td>\n",
       "      <td>1</td>\n",
       "      <td>Grape</td>\n",
       "    </tr>\n",
       "    <tr>\n",
       "      <th>3</th>\n",
       "      <td>Red</td>\n",
       "      <td>1</td>\n",
       "      <td>Grape</td>\n",
       "    </tr>\n",
       "    <tr>\n",
       "      <th>4</th>\n",
       "      <td>Yellow</td>\n",
       "      <td>3</td>\n",
       "      <td>Lemon</td>\n",
       "    </tr>\n",
       "    <tr>\n",
       "      <th>5</th>\n",
       "      <td>Yellow</td>\n",
       "      <td>4</td>\n",
       "      <td>Lemon</td>\n",
       "    </tr>\n",
       "  </tbody>\n",
       "</table>\n",
       "</div>"
      ],
      "text/plain": [
       "    color  diameter  label\n",
       "0   Green         3  Apple\n",
       "1  Yellow         3  Apple\n",
       "2     Red         1  Grape\n",
       "3     Red         1  Grape\n",
       "4  Yellow         3  Lemon\n",
       "5  Yellow         4  Lemon"
      ]
     },
     "execution_count": 53,
     "metadata": {},
     "output_type": "execute_result"
    }
   ],
   "source": [
    "import pandas as pd\n",
    "\n",
    "train_df = pd.DataFrame(train_data,columns = [\"color\",\"diameter\",\"label\"]) # make dataframe\n",
    "train_df"
   ]
  },
  {
   "cell_type": "markdown",
   "id": "c3818dd6",
   "metadata": {},
   "source": [
    "# Visualize decision tree"
   ]
  },
  {
   "cell_type": "code",
   "execution_count": 55,
   "id": "f20dd83e",
   "metadata": {},
   "outputs": [],
   "source": [
    "from sklearn.preprocessing import LabelEncoder # use sklearn\n",
    "encoder = LabelEncoder()\n",
    "train_df['color'] = encoder.fit_transform(train_df['color'])"
   ]
  },
  {
   "cell_type": "code",
   "execution_count": 58,
   "id": "3d2fa9f0",
   "metadata": {},
   "outputs": [
    {
     "data": {
      "text/plain": [
       "[Text(0.3333333333333333, 0.875, 'diameter <= 2.0\\nentropy = 1.585\\nsamples = 100.0%\\nvalue = [0.333, 0.333, 0.333]'),\n",
       " Text(0.16666666666666666, 0.625, 'entropy = 0.0\\nsamples = 33.3%\\nvalue = [0.0, 1.0, 0.0]'),\n",
       " Text(0.5, 0.625, 'color <= 1.0\\nentropy = 1.0\\nsamples = 66.7%\\nvalue = [0.5, 0.0, 0.5]'),\n",
       " Text(0.3333333333333333, 0.375, 'entropy = 0.0\\nsamples = 16.7%\\nvalue = [1.0, 0.0, 0.0]'),\n",
       " Text(0.6666666666666666, 0.375, 'diameter <= 3.5\\nentropy = 0.918\\nsamples = 50.0%\\nvalue = [0.333, 0.0, 0.667]'),\n",
       " Text(0.5, 0.125, 'entropy = 1.0\\nsamples = 33.3%\\nvalue = [0.5, 0.0, 0.5]'),\n",
       " Text(0.8333333333333334, 0.125, 'entropy = 0.0\\nsamples = 16.7%\\nvalue = [0.0, 0.0, 1.0]')]"
      ]
     },
     "execution_count": 58,
     "metadata": {},
     "output_type": "execute_result"
    },
    {
     "data": {
      "image/png": "[encoded data removed]",
      "text/plain": [
       "<Figure size 864x864 with 1 Axes>"
      ]
     },
     "metadata": {
      "needs_background": "light"
     },
     "output_type": "display_data"
    }
   ],
   "source": [
    "from sklearn.tree import DecisionTreeClassifier\n",
    "import matplotlib.pyplot as plt\n",
    "import sklearn\n",
    "\n",
    "decisionTree = DecisionTreeClassifier(random_state=0,criterion=\"entropy\")\n",
    "decisionTree.fit(train_df.iloc[:,0:2],train_df.iloc[:,2])\n",
    "\n",
    "plt.figure(figsize=(12,12))\n",
    "sklearn.tree.plot_tree(decisionTree,filled=True,feature_names=[\"color\",\"diameter\"],proportion=True) # visualize"
   ]
  },
  {
   "cell_type": "markdown",
   "id": "103aaa33",
   "metadata": {},
   "source": [
    "# Load MNIST data and split train and test data"
   ]
  },
  {
   "cell_type": "code",
   "execution_count": 65,
   "id": "d092a88d",
   "metadata": {},
   "outputs": [
    {
     "name": "stdout",
     "output_type": "stream",
     "text": [
      "... loading data\n"
     ]
    }
   ],
   "source": [
    "import pickle\n",
    "with open(\"./mnist.pkl\",'rb') as f: # load mnist file\n",
    "    train_set, valid_set, test_set = pickle.load(f,encoding=\"latin1\")\n",
    "    print(\"... loading data\")"
   ]
  },
  {
   "cell_type": "code",
   "execution_count": 66,
   "id": "e4e2e535",
   "metadata": {},
   "outputs": [],
   "source": [
    "train_x, train_y = train_set \n",
    "test_x, test_y = test_set\n",
    "\n",
    "train_x = pd.DataFrame(train_x)\n",
    "train_y = pd.DataFrame(train_y, columns=['label'])\n",
    "test_x = pd.DataFrame(test_x)\n",
    "test_y = pd.DataFrame(test_y,columns = ['label'])"
   ]
  },
  {
   "cell_type": "code",
   "execution_count": 67,
   "id": "f481673d",
   "metadata": {},
   "outputs": [
    {
     "data": {
      "text/plain": [
       "DecisionTreeClassifier(criterion='entropy', random_state=0)"
      ]
     },
     "execution_count": 67,
     "metadata": {},
     "output_type": "execute_result"
    }
   ],
   "source": [
    "decisionTree = DecisionTreeClassifier(random_state=0,criterion=\"entropy\")\n",
    "decisionTree.fit(train_x,train_y)"
   ]
  },
  {
   "cell_type": "code",
   "execution_count": 68,
   "id": "dfa3641d",
   "metadata": {},
   "outputs": [
    {
     "name": "stdout",
     "output_type": "stream",
     "text": [
      "===> Test set score : 0.88\n"
     ]
    }
   ],
   "source": [
    "print(\"===> Test set score : {:.2f}\".format(decisionTree.score(test_x,test_y)))"
   ]
  },
  {
   "cell_type": "code",
   "execution_count": 69,
   "id": "76bfe18b",
   "metadata": {},
   "outputs": [
    {
     "name": "stderr",
     "output_type": "stream",
     "text": [
      "/var/folders/gb/5bb9gwbn4cn84rmsk3wjbmxm0000gn/T/ipykernel_844/3439419474.py:4: DataConversionWarning: A column-vector y was passed when a 1d array was expected. Please change the shape of y to (n_samples,), for example using ravel().\n",
      "  rforest.fit(train_x,train_y)\n"
     ]
    },
    {
     "data": {
      "text/plain": [
       "RandomForestClassifier(random_state=0)"
      ]
     },
     "execution_count": 69,
     "metadata": {},
     "output_type": "execute_result"
    }
   ],
   "source": [
    "from sklearn.ensemble import RandomForestClassifier\n",
    "\n",
    "rforest = RandomForestClassifier(random_state=0) # make randomforest\n",
    "rforest.fit(train_x,train_y)"
   ]
  },
  {
   "cell_type": "code",
   "execution_count": 70,
   "id": "e1a90be9",
   "metadata": {},
   "outputs": [
    {
     "name": "stdout",
     "output_type": "stream",
     "text": [
      "Test set score: 0.97\n"
     ]
    }
   ],
   "source": [
    "print(\"Test set score: {:.2f}\".format(rforest.score(test_x,test_y)))"
   ]
  },
  {
   "cell_type": "code",
   "execution_count": 86,
   "id": "b6add713",
   "metadata": {},
   "outputs": [
    {
     "data": {
      "image/png": "[encoded data removed]",
      "text/plain": [
       "<Figure size 720x504 with 2 Axes>"
      ]
     },
     "metadata": {
      "needs_background": "light"
     },
     "output_type": "display_data"
    }
   ],
   "source": [
    "from sklearn.metrics import confusion_matrix\n",
    "import seaborn as sn\n",
    "\n",
    "pred_y = decisionTree.predict(test_x)\n",
    "cmdtree = confusion_matrix(test_y,pred_y)\n",
    "\n",
    "plt.figure(figsize = (10,7))\n",
    "sn.heatmap(cmdtree,annot=True,fmt='d')\n",
    "\n",
    "plt.title(\"<CONFUSION MATRIX>\")\n",
    "plt.ylabel(\"Predicted label\")\n",
    "plt.xlabel(\"True Label\")\n",
    "\n",
    "plt.show()"
   ]
  },
  {
   "cell_type": "code",
   "execution_count": 87,
   "id": "d71fcd98",
   "metadata": {},
   "outputs": [
    {
     "data": {
      "image/png": "[encoded data removed]",
      "text/plain": [
       "<Figure size 720x504 with 2 Axes>"
      ]
     },
     "metadata": {
      "needs_background": "light"
     },
     "output_type": "display_data"
    }
   ],
   "source": [
    "pred_y = rforest.predict(test_x)\n",
    "rtree_cmd = confusion_matrix(test_y,pred_y)\n",
    "\n",
    "plt.figure(figsize = (10,7))\n",
    "sn.heatmap(rtree_cmd, annot=True,fmt ='d')\n",
    "\n",
    "plt.title(\"<CONFUSION MATRIX>\")\n",
    "plt.ylabel(\"Predicted label\")\n",
    "plt.xlabel(\"True Label\")\n",
    "\n",
    "plt.show()"
   ]
  },
  {
   "cell_type": "code",
   "execution_count": null,
   "id": "08dea9f2",
   "metadata": {},
   "outputs": [],
   "source": []
  }
 ],
 "metadata": {
  "kernelspec": {
   "display_name": "Python 3 (ipykernel)",
   "language": "python",
   "name": "python3"
  },
  "language_info": {
   "codemirror_mode": {
    "name": "ipython",
    "version": 3
   },
   "file_extension": ".py",
   "mimetype": "text/x-python",
   "name": "python",
   "nbconvert_exporter": "python",
   "pygments_lexer": "ipython3",
   "version": "3.10.4"
  }
 },
 "nbformat": 4,
 "nbformat_minor": 5
}
